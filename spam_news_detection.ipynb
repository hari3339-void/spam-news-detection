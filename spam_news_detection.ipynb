{
  "nbformat": 4,
  "nbformat_minor": 0,
  "metadata": {
    "colab": {
      "provenance": [],
      "authorship_tag": "ABX9TyODTCJ9r3oqWq1x8YtU0bIq",
      "include_colab_link": true
    },
    "kernelspec": {
      "name": "python3",
      "display_name": "Python 3"
    },
    "language_info": {
      "name": "python"
    }
  },
  "cells": [
    {
      "cell_type": "markdown",
      "metadata": {
        "id": "view-in-github",
        "colab_type": "text"
      },
      "source": [
        "<a href=\"https://colab.research.google.com/github/hari3339-void/spam-news-detection/blob/main/spam_news_detection.ipynb\" target=\"_parent\"><img src=\"https://colab.research.google.com/assets/colab-badge.svg\" alt=\"Open In Colab\"/></a>"
      ]
    },
    {
      "cell_type": "code",
      "execution_count": 4,
      "metadata": {
        "id": "BObHz1PRJbGB",
        "colab": {
          "base_uri": "https://localhost:8080/"
        },
        "outputId": "e679330b-2c1f-4fa0-dcf3-8c07df07fc17"
      },
      "outputs": [
        {
          "output_type": "stream",
          "name": "stdout",
          "text": [
            "                                               title  \\\n",
            "0  (AUDIO) RACIST BLACK PANTHER LEADER: “We’re wi...   \n",
            "1   WATCH: Brand-New Pro-Trump Ad Features So Muc...   \n",
            "2  MASS NYE SEXUAL ASSAULTS IN EUROPE EXPLAINED: ...   \n",
            "3  TRUMP TELLS THOUSANDS At FL Rally “Barack Huss...   \n",
            "4  Russia blocks U.N. Security Council condemnati...   \n",
            "\n",
            "                                                text       subject  \\\n",
            "0  What is it that they don t get? Does anyone ev...     left-news   \n",
            "1  Just when you might have thought we d get a br...          News   \n",
            "2  This is possibly the most disturbing video we ...      politics   \n",
            "3  For anyone who thinks Trump s comments have cr...      politics   \n",
            "4  UNITED NATIONS (Reuters) - Russia blocked a We...  politicsNews   \n",
            "\n",
            "                date  label  \n",
            "0       Apr 30, 2015      1  \n",
            "1  December 21, 2017      1  \n",
            "2       Jan 12, 2016      1  \n",
            "3       Aug 10, 2016      1  \n",
            "4    April 12, 2017       0  \n",
            "Accuracy: 99.03%\n",
            "\n",
            "Classification Report:\n",
            "               precision    recall  f1-score   support\n",
            "\n",
            "           0       0.99      0.99      0.99      6405\n",
            "           1       0.99      0.99      0.99      7065\n",
            "\n",
            "    accuracy                           0.99     13470\n",
            "   macro avg       0.99      0.99      0.99     13470\n",
            "weighted avg       0.99      0.99      0.99     13470\n",
            "\n"
          ]
        }
      ],
      "source": [
        "# Import necessary libraries\n",
        "import pandas as pd\n",
        "from sklearn.feature_extraction.text import TfidfVectorizer\n",
        "from sklearn.model_selection import train_test_split\n",
        "from sklearn.ensemble import RandomForestClassifier\n",
        "from sklearn.metrics import accuracy_score, classification_report\n",
        "\n",
        "# Load the datasets\n",
        "# Assume 'true.csv' and 'fake.csv' are the file names\n",
        "true_df = pd.read_csv('/content/True.csv')  # Legitimate news dataset\n",
        "fake_df = pd.read_csv('/content/Fake.csv')  # Fake/spam news dataset\n",
        "\n",
        "# Add labels to the datasets\n",
        "# True news will have label 0 (Legit), Fake news will have label 1 (Spam)\n",
        "true_df['label'] = 0  # Legit\n",
        "fake_df['label'] = 1  # Spam\n",
        "\n",
        "# Combine the datasets\n",
        "df = pd.concat([true_df, fake_df], ignore_index=True)\n",
        "\n",
        "# Shuffle the combined dataset to ensure randomness\n",
        "df = df.sample(frac=1).reset_index(drop=True)\n",
        "\n",
        "# View the first few rows of the combined dataset\n",
        "print(df.head())\n",
        "\n",
        "# Preprocessing and feature extraction\n",
        "# Assuming the news text is stored in a column called 'text' or 'title'\n",
        "tfidf = TfidfVectorizer(stop_words='english')  # Convert text to TF-IDF vectors\n",
        "X = tfidf.fit_transform(df['text'])  # Features from text column\n",
        "y = df['label']  # Labels from label column\n",
        "\n",
        "# Splitting the dataset into training and testing sets\n",
        "X_train, X_test, y_train, y_test = train_test_split(X, y, test_size=0.3, random_state=42)\n",
        "\n",
        "# Building the Random Forest model\n",
        "rf_model = RandomForestClassifier(n_estimators=100, random_state=42)\n",
        "rf_model.fit(X_train, y_train)\n",
        "\n",
        "# Making predictions on the test set\n",
        "y_pred = rf_model.predict(X_test)\n",
        "\n",
        "# Evaluating the model\n",
        "accuracy = accuracy_score(y_test, y_pred)\n",
        "print(f\"Accuracy: {accuracy * 100:.2f}%\")\n",
        "print(\"\\nClassification Report:\\n\", classification_report(y_test, y_pred))\n"
      ]
    }
  ]
}